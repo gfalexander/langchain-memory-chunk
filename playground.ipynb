{
 "cells": [
  {
   "cell_type": "markdown",
   "metadata": {},
   "source": [
    "## Instalando dependencias com pip"
   ]
  },
  {
   "cell_type": "code",
   "execution_count": null,
   "metadata": {},
   "outputs": [],
   "source": [
    "!pip install langchain openai python-dotenv\n"
   ]
  },
  {
   "cell_type": "markdown",
   "metadata": {},
   "source": [
    "## Importando bibliotecas"
   ]
  },
  {
   "cell_type": "code",
   "execution_count": 1,
   "metadata": {},
   "outputs": [],
   "source": [
    "import dotenv\n",
    "import os\n",
    "from langchain.chains import LLMChain\n",
    "from langchain.llms import OpenAI\n",
    "from langchain.memory import ConversationBufferMemory\n",
    "from langchain.prompts import PromptTemplate\n"
   ]
  },
  {
   "cell_type": "markdown",
   "metadata": {},
   "source": [
    "### Carregando env"
   ]
  },
  {
   "cell_type": "code",
   "execution_count": 2,
   "metadata": {},
   "outputs": [],
   "source": [
    "dotenv.load_dotenv()\n",
    "OPENAI_API_KEY = os.getenv(\"OPENAI_API_KEY\")\n"
   ]
  },
  {
   "cell_type": "markdown",
   "metadata": {},
   "source": [
    "## Implementando código"
   ]
  },
  {
   "cell_type": "markdown",
   "metadata": {},
   "source": [
    "### Template do prompt"
   ]
  },
  {
   "cell_type": "code",
   "execution_count": 3,
   "metadata": {},
   "outputs": [],
   "source": [
    "template = \"\"\"Você é um assistente que tem a responsabilidade de fazer uma analise ortografia, gramatica, semantica e sintaxe, mas principalmente uma analise ortografica, ira pegar partes da redação e dar uma porcentagem de acerto ortografico para elas, e listar os erros\n",
    "\n",
    "{history}\n",
    "\n",
    "a redação que você ira analisar: {input}\"\"\"\n",
    "\n",
    "prompt = PromptTemplate(input_variables=[\"history\", \"input\"], template=template)\n",
    "\n",
    "memory = ConversationBufferMemory()\n"
   ]
  },
  {
   "cell_type": "markdown",
   "metadata": {},
   "source": [
    "### Chain"
   ]
  },
  {
   "cell_type": "code",
   "execution_count": 4,
   "metadata": {},
   "outputs": [],
   "source": [
    "llm = OpenAI()\n",
    "\n",
    "llm_chain = LLMChain(llm=llm, memory=memory, prompt=prompt, verbose=True)\n"
   ]
  },
  {
   "cell_type": "code",
   "execution_count": 5,
   "metadata": {},
   "outputs": [
    {
     "name": "stdout",
     "output_type": "stream",
     "text": [
      "\n",
      "\n",
      "\u001b[1m> Entering new LLMChain chain...\u001b[0m\n",
      "Prompt after formatting:\n",
      "\u001b[32;1m\u001b[1;3mVocê é um assistente que tem a responsabilidade de fazer uma analise ortografia, gramatica, semantica e sintaxe, mas principalmente uma analise ortografica, ira pegar partes da redação e dar uma porcentagem de acerto ortografico para elas, e listar os erros\n",
      "\n",
      "\n",
      "\n",
      "a redação que você ira analisar: Utilize como base para a correção o dialeto utilizado nas redes sociais e na internet para identificar erros\u001b[0m\n",
      "\n",
      "\u001b[1m> Finished chain.\u001b[0m\n"
     ]
    },
    {
     "data": {
      "text/plain": [
       "' ortográficos\\n\\nPara realizar essa tarefa, será necessário primeiro ler a redação para identificar palavras que possam ser escritas de maneira diferente do dialeto utilizado nas redes sociais ou na internet. Em seguida, você deverá usar ferramentas de verificação ortográfica, como um editor de texto, para verificar se as palavras estão escritas corretamente. Após a verificação, você deverá analisar os resultados e dar uma porcentagem de acerto ortográfico para a redação. Além disso, você deverá listar todos os erros ortográficos encontrados durante a análise.'"
      ]
     },
     "execution_count": 5,
     "metadata": {},
     "output_type": "execute_result"
    }
   ],
   "source": [
    "essay = \"\"\"\n",
    "A vida de um jovem de 18 anos, da classe média baixa, é cheia de desafios e batalhas diárias. Na correria do dia a dia, ele enfrenta um cenário cheio de obstáculos, mas segue na luta pela realização de seus sonhos.\\n O mano, ou mina, como se diz por aí, tá naquela fase de transição entre a escola e a vida adulta. Com um trampo meio 'me vira nos 30' pra ajudar em casa, ele tenta equilibrar as responsas e ainda tirar um tempinho pra curtir com os brothers no rolezinho do final de semana.\\n A grana é sempre curta, e o corre é constante. Às vezes, rola aquele aperto pra pagar as contas, mas ele segue firme, com fé que as coisas vão melhorar. A família é o alicerce, e a parada toda é correr atrás pra dar uma vida melhor pros pais e pros irmãos.\\n A escola, mesmo com uns perrengues, é o caminho que ele enxerga pra dar um upgrade na vida. Tem os perrengues do busão lotado, das aulas chatas, mas vale a pena pelo futuro. Às vezes, a vontade de largar tudo bate forte, mas a ideia é se segurar e manter o foco.\\n No amor, as paradas são mais intensas e confusas. Rolam aqueles paqueras no barzinho, aquelas conversas pelo zap, mas nada muito sério. A prioridade é correr atrás dos sonhos, porque sabe que o futuro depende do esforço de agora.\\n O rolê com os amigos é sagrado. Seja no futebol de rua, naquele churrasco improvisado no fim de semana, ou nas festinhas de amigos, a galera é o suporte emocional pra aguentar a barra. O lema é 'blz, tá tudo junto e misturado'.\\n Apesar dos perrengues e dos obstáculos, esse jovem de 18 anos carrega consigo uma determinação incrível. Cada 'vlw' é uma expressão de gratidão pela família, pelos amigos, e pela oportunidade de correr atrás de um futuro melhor. No corre da vida, ele segue, errando, aprendendo, mas nunca perdendo a esperança de que, no final, vai dar tudo certo.\n",
    "\"\"\"\n",
    "\n",
    "llm_chain.predict(input=\"Utilize como base para a correção o dialeto utilizado nas redes sociais e na internet para identificar erros\")\n"
   ]
  },
  {
   "cell_type": "code",
   "execution_count": 6,
   "metadata": {},
   "outputs": [
    {
     "name": "stdout",
     "output_type": "stream",
     "text": [
      "\n",
      "\n",
      "\u001b[1m> Entering new LLMChain chain...\u001b[0m\n",
      "Prompt after formatting:\n",
      "\u001b[32;1m\u001b[1;3mVocê é um assistente que tem a responsabilidade de fazer uma analise ortografia, gramatica, semantica e sintaxe, mas principalmente uma analise ortografica, ira pegar partes da redação e dar uma porcentagem de acerto ortografico para elas, e listar os erros\n",
      "\n",
      "Human: Utilize como base para a correção o dialeto utilizado nas redes sociais e na internet para identificar erros\n",
      "AI:  ortográficos\n",
      "\n",
      "Para realizar essa tarefa, será necessário primeiro ler a redação para identificar palavras que possam ser escritas de maneira diferente do dialeto utilizado nas redes sociais ou na internet. Em seguida, você deverá usar ferramentas de verificação ortográfica, como um editor de texto, para verificar se as palavras estão escritas corretamente. Após a verificação, você deverá analisar os resultados e dar uma porcentagem de acerto ortográfico para a redação. Além disso, você deverá listar todos os erros ortográficos encontrados durante a análise.\n",
      "\n",
      "a redação que você ira analisar: \n",
      "A vida de um jovem de 18 anos, da classe média baixa, é cheia de desafios e batalhas diárias. Na correria do dia a dia, ele enfrenta um cenário cheio de obstáculos, mas segue na luta pela realização de seus sonhos.\n",
      " O mano, ou mina, como se diz por aí, tá naquela fase de transição entre a escola e a vida adulta. Com um trampo meio 'me vira nos 30' pra ajudar em casa, ele tenta equilibrar as responsas e ainda tirar um tempinho pra curtir com os brothers no rolezinho do final de semana.\n",
      " A grana é sempre curta, e o corre é constante. Às vezes, rola aquele aperto pra pagar as contas, mas ele segue firme, com fé que as coisas vão melhorar. A família é o alicerce, e a parada toda é correr atrás pra dar uma vida melhor pros pais e pros irmãos.\n",
      " A escola, mesmo com uns perrengues, é o caminho que ele enxerga pra dar um upgrade na vida. Tem os perrengues do busão lotado, das aulas chatas, mas vale a pena pelo futuro. Às vezes, a vontade de largar tudo bate forte, mas a ideia é se segurar e manter o foco.\n",
      " No amor, as paradas são mais intensas e confusas. Rolam aqueles paqueras no barzinho, aquelas conversas pelo zap, mas nada muito sério. A prioridade é correr atrás dos sonhos, porque sabe que o futuro depende do esforço de agora.\n",
      " O rolê com os amigos é sagrado. Seja no futebol de rua, naquele churrasco improvisado no fim de semana, ou nas festinhas de amigos, a galera é o suporte emocional pra aguentar a barra. O lema é 'blz, tá tudo junto e misturado'.\n",
      " Apesar dos perrengues e dos obstáculos, esse jovem de 18 anos carrega consigo uma determinação incrível. Cada 'vlw' é uma expressão de gratidão pela família, pelos amigos, e pela oportunidade de correr atrás de um futuro melhor. No corre da vida, ele segue, errando, aprendendo, mas nunca perdendo a esperança de que, no final, vai dar tudo certo.\n",
      "\u001b[0m\n",
      "\n",
      "\u001b[1m> Finished chain.\u001b[0m\n"
     ]
    },
    {
     "data": {
      "text/plain": [
       "'\\nApós fazer a análise da redação acima, eu posso determinar que o nível de acerto ortográfico é de 98%, pois apenas duas palavras foram escritas de forma incorreta. Além disso, listo os erros ortográficos encontrados a seguir:\\n\\n- \"mano\" escrito como \"mano\"\\n- \"mina\" escrito como \"mina\"'"
      ]
     },
     "execution_count": 6,
     "metadata": {},
     "output_type": "execute_result"
    }
   ],
   "source": [
    "llm_chain.predict(input=essay)\n"
   ]
  }
 ],
 "metadata": {
  "kernelspec": {
   "display_name": "labia",
   "language": "python",
   "name": "python3"
  },
  "language_info": {
   "codemirror_mode": {
    "name": "ipython",
    "version": 3
   },
   "file_extension": ".py",
   "mimetype": "text/x-python",
   "name": "python",
   "nbconvert_exporter": "python",
   "pygments_lexer": "ipython3",
   "version": "3.10.4"
  }
 },
 "nbformat": 4,
 "nbformat_minor": 2
}
